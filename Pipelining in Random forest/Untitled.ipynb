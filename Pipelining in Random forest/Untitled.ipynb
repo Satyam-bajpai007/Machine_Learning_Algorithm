{
 "cells": [
  {
   "cell_type": "markdown",
   "id": "5709a50c",
   "metadata": {
    "toc": true
   },
   "source": [
    "<h1>Table of Contents<span class=\"tocSkip\"></span></h1>\n",
    "<div class=\"toc\"><ul class=\"toc-item\"></ul></div>"
   ]
  },
  {
   "cell_type": "code",
   "execution_count": 1,
   "id": "87596991",
   "metadata": {
    "ExecuteTime": {
     "end_time": "2022-09-04T12:15:16.189026Z",
     "start_time": "2022-09-04T12:15:14.010082Z"
    }
   },
   "outputs": [],
   "source": [
    "import numpy as mp\n",
    "import pandas as pd\n",
    "import seaborn as sns\n",
    "import matplotlib.pyplot as plt"
   ]
  },
  {
   "cell_type": "code",
   "execution_count": 2,
   "id": "4bbbfde5",
   "metadata": {
    "ExecuteTime": {
     "end_time": "2022-09-04T12:15:16.347007Z",
     "start_time": "2022-09-04T12:15:16.191040Z"
    }
   },
   "outputs": [],
   "source": [
    "from sklearn.pipeline import make_pipeline\n",
    "from sklearn.pipeline import Pipeline"
   ]
  },
  {
   "cell_type": "code",
   "execution_count": 3,
   "id": "aa8a09ab",
   "metadata": {
    "ExecuteTime": {
     "end_time": "2022-09-04T12:15:16.549820Z",
     "start_time": "2022-09-04T12:15:16.349158Z"
    }
   },
   "outputs": [],
   "source": [
    "from sklearn.impute import SimpleImputer\n",
    "from sklearn.compose import ColumnTransformer\n",
    "from sklearn.preprocessing import OneHotEncoder, StandardScaler\n",
    "from sklearn.ensemble import RandomForestRegressor\n",
    "from sklearn.model_selection import GridSearchCV"
   ]
  },
  {
   "cell_type": "code",
   "execution_count": 30,
   "id": "fd2e7ef0",
   "metadata": {
    "ExecuteTime": {
     "end_time": "2022-09-04T12:33:51.045227Z",
     "start_time": "2022-09-04T12:33:51.027240Z"
    }
   },
   "outputs": [],
   "source": [
    "import warnings\n",
    "warnings.simplefilter(\"ignore\")"
   ]
  },
  {
   "cell_type": "code",
   "execution_count": 4,
   "id": "2b7bb3ab",
   "metadata": {
    "ExecuteTime": {
     "end_time": "2022-09-04T12:15:16.565821Z",
     "start_time": "2022-09-04T12:15:16.550801Z"
    }
   },
   "outputs": [],
   "source": [
    "df = sns.load_dataset('tips')"
   ]
  },
  {
   "cell_type": "code",
   "execution_count": 5,
   "id": "93b0503e",
   "metadata": {
    "ExecuteTime": {
     "end_time": "2022-09-04T12:15:16.597299Z",
     "start_time": "2022-09-04T12:15:16.567826Z"
    }
   },
   "outputs": [
    {
     "data": {
      "text/html": [
       "<div>\n",
       "<style scoped>\n",
       "    .dataframe tbody tr th:only-of-type {\n",
       "        vertical-align: middle;\n",
       "    }\n",
       "\n",
       "    .dataframe tbody tr th {\n",
       "        vertical-align: top;\n",
       "    }\n",
       "\n",
       "    .dataframe thead th {\n",
       "        text-align: right;\n",
       "    }\n",
       "</style>\n",
       "<table border=\"1\" class=\"dataframe\">\n",
       "  <thead>\n",
       "    <tr style=\"text-align: right;\">\n",
       "      <th></th>\n",
       "      <th>total_bill</th>\n",
       "      <th>tip</th>\n",
       "      <th>sex</th>\n",
       "      <th>smoker</th>\n",
       "      <th>day</th>\n",
       "      <th>time</th>\n",
       "      <th>size</th>\n",
       "    </tr>\n",
       "  </thead>\n",
       "  <tbody>\n",
       "    <tr>\n",
       "      <th>0</th>\n",
       "      <td>16.99</td>\n",
       "      <td>1.01</td>\n",
       "      <td>Female</td>\n",
       "      <td>No</td>\n",
       "      <td>Sun</td>\n",
       "      <td>Dinner</td>\n",
       "      <td>2</td>\n",
       "    </tr>\n",
       "    <tr>\n",
       "      <th>1</th>\n",
       "      <td>10.34</td>\n",
       "      <td>1.66</td>\n",
       "      <td>Male</td>\n",
       "      <td>No</td>\n",
       "      <td>Sun</td>\n",
       "      <td>Dinner</td>\n",
       "      <td>3</td>\n",
       "    </tr>\n",
       "    <tr>\n",
       "      <th>2</th>\n",
       "      <td>21.01</td>\n",
       "      <td>3.50</td>\n",
       "      <td>Male</td>\n",
       "      <td>No</td>\n",
       "      <td>Sun</td>\n",
       "      <td>Dinner</td>\n",
       "      <td>3</td>\n",
       "    </tr>\n",
       "    <tr>\n",
       "      <th>3</th>\n",
       "      <td>23.68</td>\n",
       "      <td>3.31</td>\n",
       "      <td>Male</td>\n",
       "      <td>No</td>\n",
       "      <td>Sun</td>\n",
       "      <td>Dinner</td>\n",
       "      <td>2</td>\n",
       "    </tr>\n",
       "    <tr>\n",
       "      <th>4</th>\n",
       "      <td>24.59</td>\n",
       "      <td>3.61</td>\n",
       "      <td>Female</td>\n",
       "      <td>No</td>\n",
       "      <td>Sun</td>\n",
       "      <td>Dinner</td>\n",
       "      <td>4</td>\n",
       "    </tr>\n",
       "  </tbody>\n",
       "</table>\n",
       "</div>"
      ],
      "text/plain": [
       "   total_bill   tip     sex smoker  day    time  size\n",
       "0       16.99  1.01  Female     No  Sun  Dinner     2\n",
       "1       10.34  1.66    Male     No  Sun  Dinner     3\n",
       "2       21.01  3.50    Male     No  Sun  Dinner     3\n",
       "3       23.68  3.31    Male     No  Sun  Dinner     2\n",
       "4       24.59  3.61  Female     No  Sun  Dinner     4"
      ]
     },
     "execution_count": 5,
     "metadata": {},
     "output_type": "execute_result"
    }
   ],
   "source": [
    "df.head()"
   ]
  },
  {
   "cell_type": "code",
   "execution_count": 6,
   "id": "b312d198",
   "metadata": {
    "ExecuteTime": {
     "end_time": "2022-09-04T12:15:16.629056Z",
     "start_time": "2022-09-04T12:15:16.599057Z"
    }
   },
   "outputs": [
    {
     "name": "stdout",
     "output_type": "stream",
     "text": [
      "<class 'pandas.core.frame.DataFrame'>\n",
      "RangeIndex: 244 entries, 0 to 243\n",
      "Data columns (total 7 columns):\n",
      " #   Column      Non-Null Count  Dtype   \n",
      "---  ------      --------------  -----   \n",
      " 0   total_bill  244 non-null    float64 \n",
      " 1   tip         244 non-null    float64 \n",
      " 2   sex         244 non-null    category\n",
      " 3   smoker      244 non-null    category\n",
      " 4   day         244 non-null    category\n",
      " 5   time        244 non-null    category\n",
      " 6   size        244 non-null    int64   \n",
      "dtypes: category(4), float64(2), int64(1)\n",
      "memory usage: 7.4 KB\n"
     ]
    }
   ],
   "source": [
    "df.info()"
   ]
  },
  {
   "cell_type": "code",
   "execution_count": 7,
   "id": "7b8d5f91",
   "metadata": {
    "ExecuteTime": {
     "end_time": "2022-09-04T12:15:16.645056Z",
     "start_time": "2022-09-04T12:15:16.631058Z"
    }
   },
   "outputs": [
    {
     "data": {
      "text/plain": [
       "total_bill    0\n",
       "tip           0\n",
       "sex           0\n",
       "smoker        0\n",
       "day           0\n",
       "time          0\n",
       "size          0\n",
       "dtype: int64"
      ]
     },
     "execution_count": 7,
     "metadata": {},
     "output_type": "execute_result"
    }
   ],
   "source": [
    "df.isna().sum()"
   ]
  },
  {
   "cell_type": "code",
   "execution_count": 8,
   "id": "c3dd10b5",
   "metadata": {
    "ExecuteTime": {
     "end_time": "2022-09-04T12:15:16.660330Z",
     "start_time": "2022-09-04T12:15:16.647058Z"
    }
   },
   "outputs": [
    {
     "data": {
      "text/plain": [
       "1"
      ]
     },
     "execution_count": 8,
     "metadata": {},
     "output_type": "execute_result"
    }
   ],
   "source": [
    "df.duplicated().sum()"
   ]
  },
  {
   "cell_type": "code",
   "execution_count": 9,
   "id": "82307e23",
   "metadata": {
    "ExecuteTime": {
     "end_time": "2022-09-04T12:15:16.675901Z",
     "start_time": "2022-09-04T12:15:16.663280Z"
    }
   },
   "outputs": [
    {
     "data": {
      "text/plain": [
       "(244, 7)"
      ]
     },
     "execution_count": 9,
     "metadata": {},
     "output_type": "execute_result"
    }
   ],
   "source": [
    "df.shape"
   ]
  },
  {
   "cell_type": "code",
   "execution_count": 10,
   "id": "c797239a",
   "metadata": {
    "ExecuteTime": {
     "end_time": "2022-09-04T12:15:16.690789Z",
     "start_time": "2022-09-04T12:15:16.678901Z"
    }
   },
   "outputs": [],
   "source": [
    "x = df.iloc[:,1:]"
   ]
  },
  {
   "cell_type": "code",
   "execution_count": 11,
   "id": "99bec658",
   "metadata": {
    "ExecuteTime": {
     "end_time": "2022-09-04T12:15:16.705792Z",
     "start_time": "2022-09-04T12:15:16.692788Z"
    }
   },
   "outputs": [
    {
     "data": {
      "text/html": [
       "<div>\n",
       "<style scoped>\n",
       "    .dataframe tbody tr th:only-of-type {\n",
       "        vertical-align: middle;\n",
       "    }\n",
       "\n",
       "    .dataframe tbody tr th {\n",
       "        vertical-align: top;\n",
       "    }\n",
       "\n",
       "    .dataframe thead th {\n",
       "        text-align: right;\n",
       "    }\n",
       "</style>\n",
       "<table border=\"1\" class=\"dataframe\">\n",
       "  <thead>\n",
       "    <tr style=\"text-align: right;\">\n",
       "      <th></th>\n",
       "      <th>tip</th>\n",
       "      <th>sex</th>\n",
       "      <th>smoker</th>\n",
       "      <th>day</th>\n",
       "      <th>time</th>\n",
       "      <th>size</th>\n",
       "    </tr>\n",
       "  </thead>\n",
       "  <tbody>\n",
       "    <tr>\n",
       "      <th>0</th>\n",
       "      <td>1.01</td>\n",
       "      <td>Female</td>\n",
       "      <td>No</td>\n",
       "      <td>Sun</td>\n",
       "      <td>Dinner</td>\n",
       "      <td>2</td>\n",
       "    </tr>\n",
       "    <tr>\n",
       "      <th>1</th>\n",
       "      <td>1.66</td>\n",
       "      <td>Male</td>\n",
       "      <td>No</td>\n",
       "      <td>Sun</td>\n",
       "      <td>Dinner</td>\n",
       "      <td>3</td>\n",
       "    </tr>\n",
       "    <tr>\n",
       "      <th>2</th>\n",
       "      <td>3.50</td>\n",
       "      <td>Male</td>\n",
       "      <td>No</td>\n",
       "      <td>Sun</td>\n",
       "      <td>Dinner</td>\n",
       "      <td>3</td>\n",
       "    </tr>\n",
       "    <tr>\n",
       "      <th>3</th>\n",
       "      <td>3.31</td>\n",
       "      <td>Male</td>\n",
       "      <td>No</td>\n",
       "      <td>Sun</td>\n",
       "      <td>Dinner</td>\n",
       "      <td>2</td>\n",
       "    </tr>\n",
       "    <tr>\n",
       "      <th>4</th>\n",
       "      <td>3.61</td>\n",
       "      <td>Female</td>\n",
       "      <td>No</td>\n",
       "      <td>Sun</td>\n",
       "      <td>Dinner</td>\n",
       "      <td>4</td>\n",
       "    </tr>\n",
       "  </tbody>\n",
       "</table>\n",
       "</div>"
      ],
      "text/plain": [
       "    tip     sex smoker  day    time  size\n",
       "0  1.01  Female     No  Sun  Dinner     2\n",
       "1  1.66    Male     No  Sun  Dinner     3\n",
       "2  3.50    Male     No  Sun  Dinner     3\n",
       "3  3.31    Male     No  Sun  Dinner     2\n",
       "4  3.61  Female     No  Sun  Dinner     4"
      ]
     },
     "execution_count": 11,
     "metadata": {},
     "output_type": "execute_result"
    }
   ],
   "source": [
    "x.head()"
   ]
  },
  {
   "cell_type": "code",
   "execution_count": 12,
   "id": "7540a9f3",
   "metadata": {
    "ExecuteTime": {
     "end_time": "2022-09-04T12:15:16.721693Z",
     "start_time": "2022-09-04T12:15:16.707790Z"
    }
   },
   "outputs": [],
   "source": [
    "y = df.iloc[:,:1]"
   ]
  },
  {
   "cell_type": "code",
   "execution_count": 13,
   "id": "3698ee8a",
   "metadata": {
    "ExecuteTime": {
     "end_time": "2022-09-04T12:15:16.737209Z",
     "start_time": "2022-09-04T12:15:16.722697Z"
    }
   },
   "outputs": [
    {
     "data": {
      "text/html": [
       "<div>\n",
       "<style scoped>\n",
       "    .dataframe tbody tr th:only-of-type {\n",
       "        vertical-align: middle;\n",
       "    }\n",
       "\n",
       "    .dataframe tbody tr th {\n",
       "        vertical-align: top;\n",
       "    }\n",
       "\n",
       "    .dataframe thead th {\n",
       "        text-align: right;\n",
       "    }\n",
       "</style>\n",
       "<table border=\"1\" class=\"dataframe\">\n",
       "  <thead>\n",
       "    <tr style=\"text-align: right;\">\n",
       "      <th></th>\n",
       "      <th>total_bill</th>\n",
       "    </tr>\n",
       "  </thead>\n",
       "  <tbody>\n",
       "    <tr>\n",
       "      <th>0</th>\n",
       "      <td>16.99</td>\n",
       "    </tr>\n",
       "    <tr>\n",
       "      <th>1</th>\n",
       "      <td>10.34</td>\n",
       "    </tr>\n",
       "    <tr>\n",
       "      <th>2</th>\n",
       "      <td>21.01</td>\n",
       "    </tr>\n",
       "    <tr>\n",
       "      <th>3</th>\n",
       "      <td>23.68</td>\n",
       "    </tr>\n",
       "    <tr>\n",
       "      <th>4</th>\n",
       "      <td>24.59</td>\n",
       "    </tr>\n",
       "  </tbody>\n",
       "</table>\n",
       "</div>"
      ],
      "text/plain": [
       "   total_bill\n",
       "0       16.99\n",
       "1       10.34\n",
       "2       21.01\n",
       "3       23.68\n",
       "4       24.59"
      ]
     },
     "execution_count": 13,
     "metadata": {},
     "output_type": "execute_result"
    }
   ],
   "source": [
    "y.head()"
   ]
  },
  {
   "cell_type": "code",
   "execution_count": 14,
   "id": "9ea82bec",
   "metadata": {
    "ExecuteTime": {
     "end_time": "2022-09-04T12:15:16.752976Z",
     "start_time": "2022-09-04T12:15:16.740970Z"
    }
   },
   "outputs": [],
   "source": [
    "from sklearn.model_selection import train_test_split"
   ]
  },
  {
   "cell_type": "code",
   "execution_count": 15,
   "id": "ec82cb11",
   "metadata": {
    "ExecuteTime": {
     "end_time": "2022-09-04T12:15:16.767979Z",
     "start_time": "2022-09-04T12:15:16.753978Z"
    }
   },
   "outputs": [],
   "source": [
    "xtrain,xtest,ytrain,ytest = train_test_split(x,y,test_size=0.2,random_state=10)"
   ]
  },
  {
   "cell_type": "code",
   "execution_count": 16,
   "id": "5b22eacf",
   "metadata": {
    "ExecuteTime": {
     "end_time": "2022-09-04T12:15:16.783883Z",
     "start_time": "2022-09-04T12:15:16.769892Z"
    }
   },
   "outputs": [
    {
     "data": {
      "application/javascript": [
       "\n",
       "        if (window._pyforest_update_imports_cell) { window._pyforest_update_imports_cell('import numpy as np'); }\n",
       "    "
      ],
      "text/plain": [
       "<IPython.core.display.Javascript object>"
      ]
     },
     "metadata": {},
     "output_type": "display_data"
    }
   ],
   "source": [
    "num_process = Pipeline(\n",
    "steps=[\n",
    "    (\"imputaion_mean\", SimpleImputer(missing_values=np.nan, strategy=\"mean\")),\n",
    "    (\"scaler\", StandardScaler()),\n",
    "]) "
   ]
  },
  {
   "cell_type": "code",
   "execution_count": 17,
   "id": "057e8618",
   "metadata": {
    "ExecuteTime": {
     "end_time": "2022-09-04T12:15:16.798871Z",
     "start_time": "2022-09-04T12:15:16.785886Z"
    }
   },
   "outputs": [],
   "source": [
    "cat_process = Pipeline(\n",
    "steps=[\n",
    "    (\"imputation_constant\", SimpleImputer(fill_value=\"missing\", strategy=\"constant\")),\n",
    "    (\"onehot\", OneHotEncoder(handle_unknown=\"ignore\"))\n",
    "])"
   ]
  },
  {
   "cell_type": "code",
   "execution_count": 18,
   "id": "186d15fe",
   "metadata": {
    "ExecuteTime": {
     "end_time": "2022-09-04T12:15:16.813588Z",
     "start_time": "2022-09-04T12:15:16.800875Z"
    }
   },
   "outputs": [],
   "source": [
    "preprocess = ColumnTransformer([\n",
    "    (\"categorical\", cat_process, [\"sex\",\"smoker\",\"day\",\"time\"]),\n",
    "    (\"numerical\", num_process, [\"tip\",\"size\"])\n",
    "])"
   ]
  },
  {
   "cell_type": "code",
   "execution_count": 19,
   "id": "5418aa7f",
   "metadata": {
    "ExecuteTime": {
     "end_time": "2022-09-04T12:15:16.829143Z",
     "start_time": "2022-09-04T12:15:16.814592Z"
    }
   },
   "outputs": [],
   "source": [
    "pipe = Pipeline(\n",
    "    steps=[\n",
    "        (\"preprocessor\", preprocess),\n",
    "        (\"regressor\", RandomForestRegressor())\n",
    "    ]\n",
    ")"
   ]
  },
  {
   "cell_type": "code",
   "execution_count": 20,
   "id": "7738d387",
   "metadata": {
    "ExecuteTime": {
     "end_time": "2022-09-04T12:15:16.845150Z",
     "start_time": "2022-09-04T12:15:16.830145Z"
    }
   },
   "outputs": [],
   "source": [
    "from sklearn import set_config"
   ]
  },
  {
   "cell_type": "code",
   "execution_count": 21,
   "id": "9c1bdac1",
   "metadata": {
    "ExecuteTime": {
     "end_time": "2022-09-04T12:15:16.861196Z",
     "start_time": "2022-09-04T12:15:16.847152Z"
    }
   },
   "outputs": [],
   "source": [
    "set_config(display='diagram')"
   ]
  },
  {
   "cell_type": "code",
   "execution_count": 22,
   "id": "9636cb84",
   "metadata": {
    "ExecuteTime": {
     "end_time": "2022-09-04T12:15:16.940636Z",
     "start_time": "2022-09-04T12:15:16.863197Z"
    }
   },
   "outputs": [
    {
     "data": {
      "text/html": [
       "<style>#sk-0b277449-247a-4ad8-a20a-73a490b3af12 {color: black;background-color: white;}#sk-0b277449-247a-4ad8-a20a-73a490b3af12 pre{padding: 0;}#sk-0b277449-247a-4ad8-a20a-73a490b3af12 div.sk-toggleable {background-color: white;}#sk-0b277449-247a-4ad8-a20a-73a490b3af12 label.sk-toggleable__label {cursor: pointer;display: block;width: 100%;margin-bottom: 0;padding: 0.3em;box-sizing: border-box;text-align: center;}#sk-0b277449-247a-4ad8-a20a-73a490b3af12 label.sk-toggleable__label-arrow:before {content: \"▸\";float: left;margin-right: 0.25em;color: #696969;}#sk-0b277449-247a-4ad8-a20a-73a490b3af12 label.sk-toggleable__label-arrow:hover:before {color: black;}#sk-0b277449-247a-4ad8-a20a-73a490b3af12 div.sk-estimator:hover label.sk-toggleable__label-arrow:before {color: black;}#sk-0b277449-247a-4ad8-a20a-73a490b3af12 div.sk-toggleable__content {max-height: 0;max-width: 0;overflow: hidden;text-align: left;background-color: #f0f8ff;}#sk-0b277449-247a-4ad8-a20a-73a490b3af12 div.sk-toggleable__content pre {margin: 0.2em;color: black;border-radius: 0.25em;background-color: #f0f8ff;}#sk-0b277449-247a-4ad8-a20a-73a490b3af12 input.sk-toggleable__control:checked~div.sk-toggleable__content {max-height: 200px;max-width: 100%;overflow: auto;}#sk-0b277449-247a-4ad8-a20a-73a490b3af12 input.sk-toggleable__control:checked~label.sk-toggleable__label-arrow:before {content: \"▾\";}#sk-0b277449-247a-4ad8-a20a-73a490b3af12 div.sk-estimator input.sk-toggleable__control:checked~label.sk-toggleable__label {background-color: #d4ebff;}#sk-0b277449-247a-4ad8-a20a-73a490b3af12 div.sk-label input.sk-toggleable__control:checked~label.sk-toggleable__label {background-color: #d4ebff;}#sk-0b277449-247a-4ad8-a20a-73a490b3af12 input.sk-hidden--visually {border: 0;clip: rect(1px 1px 1px 1px);clip: rect(1px, 1px, 1px, 1px);height: 1px;margin: -1px;overflow: hidden;padding: 0;position: absolute;width: 1px;}#sk-0b277449-247a-4ad8-a20a-73a490b3af12 div.sk-estimator {font-family: monospace;background-color: #f0f8ff;border: 1px dotted black;border-radius: 0.25em;box-sizing: border-box;margin-bottom: 0.5em;}#sk-0b277449-247a-4ad8-a20a-73a490b3af12 div.sk-estimator:hover {background-color: #d4ebff;}#sk-0b277449-247a-4ad8-a20a-73a490b3af12 div.sk-parallel-item::after {content: \"\";width: 100%;border-bottom: 1px solid gray;flex-grow: 1;}#sk-0b277449-247a-4ad8-a20a-73a490b3af12 div.sk-label:hover label.sk-toggleable__label {background-color: #d4ebff;}#sk-0b277449-247a-4ad8-a20a-73a490b3af12 div.sk-serial::before {content: \"\";position: absolute;border-left: 1px solid gray;box-sizing: border-box;top: 2em;bottom: 0;left: 50%;}#sk-0b277449-247a-4ad8-a20a-73a490b3af12 div.sk-serial {display: flex;flex-direction: column;align-items: center;background-color: white;padding-right: 0.2em;padding-left: 0.2em;}#sk-0b277449-247a-4ad8-a20a-73a490b3af12 div.sk-item {z-index: 1;}#sk-0b277449-247a-4ad8-a20a-73a490b3af12 div.sk-parallel {display: flex;align-items: stretch;justify-content: center;background-color: white;}#sk-0b277449-247a-4ad8-a20a-73a490b3af12 div.sk-parallel::before {content: \"\";position: absolute;border-left: 1px solid gray;box-sizing: border-box;top: 2em;bottom: 0;left: 50%;}#sk-0b277449-247a-4ad8-a20a-73a490b3af12 div.sk-parallel-item {display: flex;flex-direction: column;position: relative;background-color: white;}#sk-0b277449-247a-4ad8-a20a-73a490b3af12 div.sk-parallel-item:first-child::after {align-self: flex-end;width: 50%;}#sk-0b277449-247a-4ad8-a20a-73a490b3af12 div.sk-parallel-item:last-child::after {align-self: flex-start;width: 50%;}#sk-0b277449-247a-4ad8-a20a-73a490b3af12 div.sk-parallel-item:only-child::after {width: 0;}#sk-0b277449-247a-4ad8-a20a-73a490b3af12 div.sk-dashed-wrapped {border: 1px dashed gray;margin: 0 0.4em 0.5em 0.4em;box-sizing: border-box;padding-bottom: 0.4em;background-color: white;position: relative;}#sk-0b277449-247a-4ad8-a20a-73a490b3af12 div.sk-label label {font-family: monospace;font-weight: bold;background-color: white;display: inline-block;line-height: 1.2em;}#sk-0b277449-247a-4ad8-a20a-73a490b3af12 div.sk-label-container {position: relative;z-index: 2;text-align: center;}#sk-0b277449-247a-4ad8-a20a-73a490b3af12 div.sk-container {/* jupyter's `normalize.less` sets `[hidden] { display: none; }` but bootstrap.min.css set `[hidden] { display: none !important; }` so we also need the `!important` here to be able to override the default hidden behavior on the sphinx rendered scikit-learn.org. See: https://github.com/scikit-learn/scikit-learn/issues/21755 */display: inline-block !important;position: relative;}#sk-0b277449-247a-4ad8-a20a-73a490b3af12 div.sk-text-repr-fallback {display: none;}</style><div id=\"sk-0b277449-247a-4ad8-a20a-73a490b3af12\" class=\"sk-top-container\"><div class=\"sk-text-repr-fallback\"><pre>Pipeline(steps=[(&#x27;preprocessor&#x27;,\n",
       "                 ColumnTransformer(transformers=[(&#x27;categorical&#x27;,\n",
       "                                                  Pipeline(steps=[(&#x27;imputation_constant&#x27;,\n",
       "                                                                   SimpleImputer(fill_value=&#x27;missing&#x27;,\n",
       "                                                                                 strategy=&#x27;constant&#x27;)),\n",
       "                                                                  (&#x27;onehot&#x27;,\n",
       "                                                                   OneHotEncoder(handle_unknown=&#x27;ignore&#x27;))]),\n",
       "                                                  [&#x27;sex&#x27;, &#x27;smoker&#x27;, &#x27;day&#x27;,\n",
       "                                                   &#x27;time&#x27;]),\n",
       "                                                 (&#x27;numerical&#x27;,\n",
       "                                                  Pipeline(steps=[(&#x27;imputaion_mean&#x27;,\n",
       "                                                                   SimpleImputer()),\n",
       "                                                                  (&#x27;scaler&#x27;,\n",
       "                                                                   StandardScaler())]),\n",
       "                                                  [&#x27;tip&#x27;, &#x27;size&#x27;])])),\n",
       "                (&#x27;regressor&#x27;, RandomForestRegressor())])</pre><b>Please rerun this cell to show the HTML repr or trust the notebook.</b></div><div class=\"sk-container\" hidden><div class=\"sk-item sk-dashed-wrapped\"><div class=\"sk-label-container\"><div class=\"sk-label sk-toggleable\"><input class=\"sk-toggleable__control sk-hidden--visually\" id=\"f9e252ed-824b-4b68-a8a2-fd3c7c55205f\" type=\"checkbox\" ><label for=\"f9e252ed-824b-4b68-a8a2-fd3c7c55205f\" class=\"sk-toggleable__label sk-toggleable__label-arrow\">Pipeline</label><div class=\"sk-toggleable__content\"><pre>Pipeline(steps=[(&#x27;preprocessor&#x27;,\n",
       "                 ColumnTransformer(transformers=[(&#x27;categorical&#x27;,\n",
       "                                                  Pipeline(steps=[(&#x27;imputation_constant&#x27;,\n",
       "                                                                   SimpleImputer(fill_value=&#x27;missing&#x27;,\n",
       "                                                                                 strategy=&#x27;constant&#x27;)),\n",
       "                                                                  (&#x27;onehot&#x27;,\n",
       "                                                                   OneHotEncoder(handle_unknown=&#x27;ignore&#x27;))]),\n",
       "                                                  [&#x27;sex&#x27;, &#x27;smoker&#x27;, &#x27;day&#x27;,\n",
       "                                                   &#x27;time&#x27;]),\n",
       "                                                 (&#x27;numerical&#x27;,\n",
       "                                                  Pipeline(steps=[(&#x27;imputaion_mean&#x27;,\n",
       "                                                                   SimpleImputer()),\n",
       "                                                                  (&#x27;scaler&#x27;,\n",
       "                                                                   StandardScaler())]),\n",
       "                                                  [&#x27;tip&#x27;, &#x27;size&#x27;])])),\n",
       "                (&#x27;regressor&#x27;, RandomForestRegressor())])</pre></div></div></div><div class=\"sk-serial\"><div class=\"sk-item sk-dashed-wrapped\"><div class=\"sk-label-container\"><div class=\"sk-label sk-toggleable\"><input class=\"sk-toggleable__control sk-hidden--visually\" id=\"7b7abf2f-81a6-4b7d-83f5-da76ccb0054a\" type=\"checkbox\" ><label for=\"7b7abf2f-81a6-4b7d-83f5-da76ccb0054a\" class=\"sk-toggleable__label sk-toggleable__label-arrow\">preprocessor: ColumnTransformer</label><div class=\"sk-toggleable__content\"><pre>ColumnTransformer(transformers=[(&#x27;categorical&#x27;,\n",
       "                                 Pipeline(steps=[(&#x27;imputation_constant&#x27;,\n",
       "                                                  SimpleImputer(fill_value=&#x27;missing&#x27;,\n",
       "                                                                strategy=&#x27;constant&#x27;)),\n",
       "                                                 (&#x27;onehot&#x27;,\n",
       "                                                  OneHotEncoder(handle_unknown=&#x27;ignore&#x27;))]),\n",
       "                                 [&#x27;sex&#x27;, &#x27;smoker&#x27;, &#x27;day&#x27;, &#x27;time&#x27;]),\n",
       "                                (&#x27;numerical&#x27;,\n",
       "                                 Pipeline(steps=[(&#x27;imputaion_mean&#x27;,\n",
       "                                                  SimpleImputer()),\n",
       "                                                 (&#x27;scaler&#x27;, StandardScaler())]),\n",
       "                                 [&#x27;tip&#x27;, &#x27;size&#x27;])])</pre></div></div></div><div class=\"sk-parallel\"><div class=\"sk-parallel-item\"><div class=\"sk-item\"><div class=\"sk-label-container\"><div class=\"sk-label sk-toggleable\"><input class=\"sk-toggleable__control sk-hidden--visually\" id=\"5377856f-6321-4b82-9df0-dc9eebaa7c7b\" type=\"checkbox\" ><label for=\"5377856f-6321-4b82-9df0-dc9eebaa7c7b\" class=\"sk-toggleable__label sk-toggleable__label-arrow\">categorical</label><div class=\"sk-toggleable__content\"><pre>[&#x27;sex&#x27;, &#x27;smoker&#x27;, &#x27;day&#x27;, &#x27;time&#x27;]</pre></div></div></div><div class=\"sk-serial\"><div class=\"sk-item\"><div class=\"sk-serial\"><div class=\"sk-item\"><div class=\"sk-estimator sk-toggleable\"><input class=\"sk-toggleable__control sk-hidden--visually\" id=\"21a1067b-4c9c-430a-a388-41fb1329dbd4\" type=\"checkbox\" ><label for=\"21a1067b-4c9c-430a-a388-41fb1329dbd4\" class=\"sk-toggleable__label sk-toggleable__label-arrow\">SimpleImputer</label><div class=\"sk-toggleable__content\"><pre>SimpleImputer(fill_value=&#x27;missing&#x27;, strategy=&#x27;constant&#x27;)</pre></div></div></div><div class=\"sk-item\"><div class=\"sk-estimator sk-toggleable\"><input class=\"sk-toggleable__control sk-hidden--visually\" id=\"2012cacb-d9fc-42a6-ab53-f677ee91a5dd\" type=\"checkbox\" ><label for=\"2012cacb-d9fc-42a6-ab53-f677ee91a5dd\" class=\"sk-toggleable__label sk-toggleable__label-arrow\">OneHotEncoder</label><div class=\"sk-toggleable__content\"><pre>OneHotEncoder(handle_unknown=&#x27;ignore&#x27;)</pre></div></div></div></div></div></div></div></div><div class=\"sk-parallel-item\"><div class=\"sk-item\"><div class=\"sk-label-container\"><div class=\"sk-label sk-toggleable\"><input class=\"sk-toggleable__control sk-hidden--visually\" id=\"c29e20ac-be8c-455a-8898-19be83b4c21c\" type=\"checkbox\" ><label for=\"c29e20ac-be8c-455a-8898-19be83b4c21c\" class=\"sk-toggleable__label sk-toggleable__label-arrow\">numerical</label><div class=\"sk-toggleable__content\"><pre>[&#x27;tip&#x27;, &#x27;size&#x27;]</pre></div></div></div><div class=\"sk-serial\"><div class=\"sk-item\"><div class=\"sk-serial\"><div class=\"sk-item\"><div class=\"sk-estimator sk-toggleable\"><input class=\"sk-toggleable__control sk-hidden--visually\" id=\"40719fc3-b79f-438f-a74c-65703420e049\" type=\"checkbox\" ><label for=\"40719fc3-b79f-438f-a74c-65703420e049\" class=\"sk-toggleable__label sk-toggleable__label-arrow\">SimpleImputer</label><div class=\"sk-toggleable__content\"><pre>SimpleImputer()</pre></div></div></div><div class=\"sk-item\"><div class=\"sk-estimator sk-toggleable\"><input class=\"sk-toggleable__control sk-hidden--visually\" id=\"82bdef76-29a1-4b7a-91ef-e7b8e77e469e\" type=\"checkbox\" ><label for=\"82bdef76-29a1-4b7a-91ef-e7b8e77e469e\" class=\"sk-toggleable__label sk-toggleable__label-arrow\">StandardScaler</label><div class=\"sk-toggleable__content\"><pre>StandardScaler()</pre></div></div></div></div></div></div></div></div></div></div><div class=\"sk-item\"><div class=\"sk-estimator sk-toggleable\"><input class=\"sk-toggleable__control sk-hidden--visually\" id=\"ff179226-b731-495d-802a-77d27188d76f\" type=\"checkbox\" ><label for=\"ff179226-b731-495d-802a-77d27188d76f\" class=\"sk-toggleable__label sk-toggleable__label-arrow\">RandomForestRegressor</label><div class=\"sk-toggleable__content\"><pre>RandomForestRegressor()</pre></div></div></div></div></div></div></div>"
      ],
      "text/plain": [
       "Pipeline(steps=[('preprocessor',\n",
       "                 ColumnTransformer(transformers=[('categorical',\n",
       "                                                  Pipeline(steps=[('imputation_constant',\n",
       "                                                                   SimpleImputer(fill_value='missing',\n",
       "                                                                                 strategy='constant')),\n",
       "                                                                  ('onehot',\n",
       "                                                                   OneHotEncoder(handle_unknown='ignore'))]),\n",
       "                                                  ['sex', 'smoker', 'day',\n",
       "                                                   'time']),\n",
       "                                                 ('numerical',\n",
       "                                                  Pipeline(steps=[('imputaion_mean',\n",
       "                                                                   SimpleImputer()),\n",
       "                                                                  ('scaler',\n",
       "                                                                   StandardScaler())]),\n",
       "                                                  ['tip', 'size'])])),\n",
       "                ('regressor', RandomForestRegressor())])"
      ]
     },
     "execution_count": 22,
     "metadata": {},
     "output_type": "execute_result"
    }
   ],
   "source": [
    "pipe"
   ]
  },
  {
   "cell_type": "code",
   "execution_count": 23,
   "id": "492dd31b",
   "metadata": {
    "ExecuteTime": {
     "end_time": "2022-09-04T12:15:16.956639Z",
     "start_time": "2022-09-04T12:15:16.942638Z"
    }
   },
   "outputs": [],
   "source": [
    "# param_grid = {\n",
    "#     \"regressor__n_estimators\": [200,500],\n",
    "#     \"regressor__max_feature\": [\"auto\",\"sqrt\",\"log2\"],\n",
    "#     \"regressor__max_depth\": [4,5,6,7,8]\n",
    "# }"
   ]
  },
  {
   "cell_type": "code",
   "execution_count": 26,
   "id": "4da4bc5d",
   "metadata": {
    "ExecuteTime": {
     "end_time": "2022-09-04T12:16:13.660006Z",
     "start_time": "2022-09-04T12:16:13.645008Z"
    }
   },
   "outputs": [],
   "source": [
    "# grid_search = GridSearchCV(pipe, param_grid=param_grid, n_jobs=5)"
   ]
  },
  {
   "cell_type": "code",
   "execution_count": null,
   "id": "cda61c58",
   "metadata": {
    "ExecuteTime": {
     "end_time": "2022-09-04T12:15:17.605486Z",
     "start_time": "2022-09-04T12:15:17.605486Z"
    }
   },
   "outputs": [],
   "source": [
    "# grid_search.fit(xtrain,ytrain)"
   ]
  },
  {
   "cell_type": "code",
   "execution_count": 31,
   "id": "a7c60938",
   "metadata": {
    "ExecuteTime": {
     "end_time": "2022-09-04T12:33:56.273677Z",
     "start_time": "2022-09-04T12:33:56.071486Z"
    }
   },
   "outputs": [
    {
     "data": {
      "text/html": [
       "<style>#sk-36662895-d67f-4d2a-97e7-d4e62c6ad1ad {color: black;background-color: white;}#sk-36662895-d67f-4d2a-97e7-d4e62c6ad1ad pre{padding: 0;}#sk-36662895-d67f-4d2a-97e7-d4e62c6ad1ad div.sk-toggleable {background-color: white;}#sk-36662895-d67f-4d2a-97e7-d4e62c6ad1ad label.sk-toggleable__label {cursor: pointer;display: block;width: 100%;margin-bottom: 0;padding: 0.3em;box-sizing: border-box;text-align: center;}#sk-36662895-d67f-4d2a-97e7-d4e62c6ad1ad label.sk-toggleable__label-arrow:before {content: \"▸\";float: left;margin-right: 0.25em;color: #696969;}#sk-36662895-d67f-4d2a-97e7-d4e62c6ad1ad label.sk-toggleable__label-arrow:hover:before {color: black;}#sk-36662895-d67f-4d2a-97e7-d4e62c6ad1ad div.sk-estimator:hover label.sk-toggleable__label-arrow:before {color: black;}#sk-36662895-d67f-4d2a-97e7-d4e62c6ad1ad div.sk-toggleable__content {max-height: 0;max-width: 0;overflow: hidden;text-align: left;background-color: #f0f8ff;}#sk-36662895-d67f-4d2a-97e7-d4e62c6ad1ad div.sk-toggleable__content pre {margin: 0.2em;color: black;border-radius: 0.25em;background-color: #f0f8ff;}#sk-36662895-d67f-4d2a-97e7-d4e62c6ad1ad input.sk-toggleable__control:checked~div.sk-toggleable__content {max-height: 200px;max-width: 100%;overflow: auto;}#sk-36662895-d67f-4d2a-97e7-d4e62c6ad1ad input.sk-toggleable__control:checked~label.sk-toggleable__label-arrow:before {content: \"▾\";}#sk-36662895-d67f-4d2a-97e7-d4e62c6ad1ad div.sk-estimator input.sk-toggleable__control:checked~label.sk-toggleable__label {background-color: #d4ebff;}#sk-36662895-d67f-4d2a-97e7-d4e62c6ad1ad div.sk-label input.sk-toggleable__control:checked~label.sk-toggleable__label {background-color: #d4ebff;}#sk-36662895-d67f-4d2a-97e7-d4e62c6ad1ad input.sk-hidden--visually {border: 0;clip: rect(1px 1px 1px 1px);clip: rect(1px, 1px, 1px, 1px);height: 1px;margin: -1px;overflow: hidden;padding: 0;position: absolute;width: 1px;}#sk-36662895-d67f-4d2a-97e7-d4e62c6ad1ad div.sk-estimator {font-family: monospace;background-color: #f0f8ff;border: 1px dotted black;border-radius: 0.25em;box-sizing: border-box;margin-bottom: 0.5em;}#sk-36662895-d67f-4d2a-97e7-d4e62c6ad1ad div.sk-estimator:hover {background-color: #d4ebff;}#sk-36662895-d67f-4d2a-97e7-d4e62c6ad1ad div.sk-parallel-item::after {content: \"\";width: 100%;border-bottom: 1px solid gray;flex-grow: 1;}#sk-36662895-d67f-4d2a-97e7-d4e62c6ad1ad div.sk-label:hover label.sk-toggleable__label {background-color: #d4ebff;}#sk-36662895-d67f-4d2a-97e7-d4e62c6ad1ad div.sk-serial::before {content: \"\";position: absolute;border-left: 1px solid gray;box-sizing: border-box;top: 2em;bottom: 0;left: 50%;}#sk-36662895-d67f-4d2a-97e7-d4e62c6ad1ad div.sk-serial {display: flex;flex-direction: column;align-items: center;background-color: white;padding-right: 0.2em;padding-left: 0.2em;}#sk-36662895-d67f-4d2a-97e7-d4e62c6ad1ad div.sk-item {z-index: 1;}#sk-36662895-d67f-4d2a-97e7-d4e62c6ad1ad div.sk-parallel {display: flex;align-items: stretch;justify-content: center;background-color: white;}#sk-36662895-d67f-4d2a-97e7-d4e62c6ad1ad div.sk-parallel::before {content: \"\";position: absolute;border-left: 1px solid gray;box-sizing: border-box;top: 2em;bottom: 0;left: 50%;}#sk-36662895-d67f-4d2a-97e7-d4e62c6ad1ad div.sk-parallel-item {display: flex;flex-direction: column;position: relative;background-color: white;}#sk-36662895-d67f-4d2a-97e7-d4e62c6ad1ad div.sk-parallel-item:first-child::after {align-self: flex-end;width: 50%;}#sk-36662895-d67f-4d2a-97e7-d4e62c6ad1ad div.sk-parallel-item:last-child::after {align-self: flex-start;width: 50%;}#sk-36662895-d67f-4d2a-97e7-d4e62c6ad1ad div.sk-parallel-item:only-child::after {width: 0;}#sk-36662895-d67f-4d2a-97e7-d4e62c6ad1ad div.sk-dashed-wrapped {border: 1px dashed gray;margin: 0 0.4em 0.5em 0.4em;box-sizing: border-box;padding-bottom: 0.4em;background-color: white;position: relative;}#sk-36662895-d67f-4d2a-97e7-d4e62c6ad1ad div.sk-label label {font-family: monospace;font-weight: bold;background-color: white;display: inline-block;line-height: 1.2em;}#sk-36662895-d67f-4d2a-97e7-d4e62c6ad1ad div.sk-label-container {position: relative;z-index: 2;text-align: center;}#sk-36662895-d67f-4d2a-97e7-d4e62c6ad1ad div.sk-container {/* jupyter's `normalize.less` sets `[hidden] { display: none; }` but bootstrap.min.css set `[hidden] { display: none !important; }` so we also need the `!important` here to be able to override the default hidden behavior on the sphinx rendered scikit-learn.org. See: https://github.com/scikit-learn/scikit-learn/issues/21755 */display: inline-block !important;position: relative;}#sk-36662895-d67f-4d2a-97e7-d4e62c6ad1ad div.sk-text-repr-fallback {display: none;}</style><div id=\"sk-36662895-d67f-4d2a-97e7-d4e62c6ad1ad\" class=\"sk-top-container\"><div class=\"sk-text-repr-fallback\"><pre>Pipeline(steps=[(&#x27;preprocessor&#x27;,\n",
       "                 ColumnTransformer(transformers=[(&#x27;categorical&#x27;,\n",
       "                                                  Pipeline(steps=[(&#x27;imputation_constant&#x27;,\n",
       "                                                                   SimpleImputer(fill_value=&#x27;missing&#x27;,\n",
       "                                                                                 strategy=&#x27;constant&#x27;)),\n",
       "                                                                  (&#x27;onehot&#x27;,\n",
       "                                                                   OneHotEncoder(handle_unknown=&#x27;ignore&#x27;))]),\n",
       "                                                  [&#x27;sex&#x27;, &#x27;smoker&#x27;, &#x27;day&#x27;,\n",
       "                                                   &#x27;time&#x27;]),\n",
       "                                                 (&#x27;numerical&#x27;,\n",
       "                                                  Pipeline(steps=[(&#x27;imputaion_mean&#x27;,\n",
       "                                                                   SimpleImputer()),\n",
       "                                                                  (&#x27;scaler&#x27;,\n",
       "                                                                   StandardScaler())]),\n",
       "                                                  [&#x27;tip&#x27;, &#x27;size&#x27;])])),\n",
       "                (&#x27;regressor&#x27;, RandomForestRegressor())])</pre><b>Please rerun this cell to show the HTML repr or trust the notebook.</b></div><div class=\"sk-container\" hidden><div class=\"sk-item sk-dashed-wrapped\"><div class=\"sk-label-container\"><div class=\"sk-label sk-toggleable\"><input class=\"sk-toggleable__control sk-hidden--visually\" id=\"20f12520-6eb3-434a-b8dc-c1526c77adea\" type=\"checkbox\" ><label for=\"20f12520-6eb3-434a-b8dc-c1526c77adea\" class=\"sk-toggleable__label sk-toggleable__label-arrow\">Pipeline</label><div class=\"sk-toggleable__content\"><pre>Pipeline(steps=[(&#x27;preprocessor&#x27;,\n",
       "                 ColumnTransformer(transformers=[(&#x27;categorical&#x27;,\n",
       "                                                  Pipeline(steps=[(&#x27;imputation_constant&#x27;,\n",
       "                                                                   SimpleImputer(fill_value=&#x27;missing&#x27;,\n",
       "                                                                                 strategy=&#x27;constant&#x27;)),\n",
       "                                                                  (&#x27;onehot&#x27;,\n",
       "                                                                   OneHotEncoder(handle_unknown=&#x27;ignore&#x27;))]),\n",
       "                                                  [&#x27;sex&#x27;, &#x27;smoker&#x27;, &#x27;day&#x27;,\n",
       "                                                   &#x27;time&#x27;]),\n",
       "                                                 (&#x27;numerical&#x27;,\n",
       "                                                  Pipeline(steps=[(&#x27;imputaion_mean&#x27;,\n",
       "                                                                   SimpleImputer()),\n",
       "                                                                  (&#x27;scaler&#x27;,\n",
       "                                                                   StandardScaler())]),\n",
       "                                                  [&#x27;tip&#x27;, &#x27;size&#x27;])])),\n",
       "                (&#x27;regressor&#x27;, RandomForestRegressor())])</pre></div></div></div><div class=\"sk-serial\"><div class=\"sk-item sk-dashed-wrapped\"><div class=\"sk-label-container\"><div class=\"sk-label sk-toggleable\"><input class=\"sk-toggleable__control sk-hidden--visually\" id=\"8429fd64-fc46-466c-b43d-2c13f9de293e\" type=\"checkbox\" ><label for=\"8429fd64-fc46-466c-b43d-2c13f9de293e\" class=\"sk-toggleable__label sk-toggleable__label-arrow\">preprocessor: ColumnTransformer</label><div class=\"sk-toggleable__content\"><pre>ColumnTransformer(transformers=[(&#x27;categorical&#x27;,\n",
       "                                 Pipeline(steps=[(&#x27;imputation_constant&#x27;,\n",
       "                                                  SimpleImputer(fill_value=&#x27;missing&#x27;,\n",
       "                                                                strategy=&#x27;constant&#x27;)),\n",
       "                                                 (&#x27;onehot&#x27;,\n",
       "                                                  OneHotEncoder(handle_unknown=&#x27;ignore&#x27;))]),\n",
       "                                 [&#x27;sex&#x27;, &#x27;smoker&#x27;, &#x27;day&#x27;, &#x27;time&#x27;]),\n",
       "                                (&#x27;numerical&#x27;,\n",
       "                                 Pipeline(steps=[(&#x27;imputaion_mean&#x27;,\n",
       "                                                  SimpleImputer()),\n",
       "                                                 (&#x27;scaler&#x27;, StandardScaler())]),\n",
       "                                 [&#x27;tip&#x27;, &#x27;size&#x27;])])</pre></div></div></div><div class=\"sk-parallel\"><div class=\"sk-parallel-item\"><div class=\"sk-item\"><div class=\"sk-label-container\"><div class=\"sk-label sk-toggleable\"><input class=\"sk-toggleable__control sk-hidden--visually\" id=\"25c4adeb-37e9-4815-b55a-aa65136d2934\" type=\"checkbox\" ><label for=\"25c4adeb-37e9-4815-b55a-aa65136d2934\" class=\"sk-toggleable__label sk-toggleable__label-arrow\">categorical</label><div class=\"sk-toggleable__content\"><pre>[&#x27;sex&#x27;, &#x27;smoker&#x27;, &#x27;day&#x27;, &#x27;time&#x27;]</pre></div></div></div><div class=\"sk-serial\"><div class=\"sk-item\"><div class=\"sk-serial\"><div class=\"sk-item\"><div class=\"sk-estimator sk-toggleable\"><input class=\"sk-toggleable__control sk-hidden--visually\" id=\"d0bd6b50-d9df-4cab-83fb-ec5d5bb23615\" type=\"checkbox\" ><label for=\"d0bd6b50-d9df-4cab-83fb-ec5d5bb23615\" class=\"sk-toggleable__label sk-toggleable__label-arrow\">SimpleImputer</label><div class=\"sk-toggleable__content\"><pre>SimpleImputer(fill_value=&#x27;missing&#x27;, strategy=&#x27;constant&#x27;)</pre></div></div></div><div class=\"sk-item\"><div class=\"sk-estimator sk-toggleable\"><input class=\"sk-toggleable__control sk-hidden--visually\" id=\"e830d712-85af-4ede-bafa-8d7fc2797176\" type=\"checkbox\" ><label for=\"e830d712-85af-4ede-bafa-8d7fc2797176\" class=\"sk-toggleable__label sk-toggleable__label-arrow\">OneHotEncoder</label><div class=\"sk-toggleable__content\"><pre>OneHotEncoder(handle_unknown=&#x27;ignore&#x27;)</pre></div></div></div></div></div></div></div></div><div class=\"sk-parallel-item\"><div class=\"sk-item\"><div class=\"sk-label-container\"><div class=\"sk-label sk-toggleable\"><input class=\"sk-toggleable__control sk-hidden--visually\" id=\"2cf12f11-803e-4eaf-a0c3-71186eef0b67\" type=\"checkbox\" ><label for=\"2cf12f11-803e-4eaf-a0c3-71186eef0b67\" class=\"sk-toggleable__label sk-toggleable__label-arrow\">numerical</label><div class=\"sk-toggleable__content\"><pre>[&#x27;tip&#x27;, &#x27;size&#x27;]</pre></div></div></div><div class=\"sk-serial\"><div class=\"sk-item\"><div class=\"sk-serial\"><div class=\"sk-item\"><div class=\"sk-estimator sk-toggleable\"><input class=\"sk-toggleable__control sk-hidden--visually\" id=\"6dcea523-7bc3-4d58-9c73-bcbab26c963a\" type=\"checkbox\" ><label for=\"6dcea523-7bc3-4d58-9c73-bcbab26c963a\" class=\"sk-toggleable__label sk-toggleable__label-arrow\">SimpleImputer</label><div class=\"sk-toggleable__content\"><pre>SimpleImputer()</pre></div></div></div><div class=\"sk-item\"><div class=\"sk-estimator sk-toggleable\"><input class=\"sk-toggleable__control sk-hidden--visually\" id=\"e32e48f8-db37-4db2-a516-7a9f20cbcb5c\" type=\"checkbox\" ><label for=\"e32e48f8-db37-4db2-a516-7a9f20cbcb5c\" class=\"sk-toggleable__label sk-toggleable__label-arrow\">StandardScaler</label><div class=\"sk-toggleable__content\"><pre>StandardScaler()</pre></div></div></div></div></div></div></div></div></div></div><div class=\"sk-item\"><div class=\"sk-estimator sk-toggleable\"><input class=\"sk-toggleable__control sk-hidden--visually\" id=\"a8f366d6-92fe-4948-9281-7fa2de918d65\" type=\"checkbox\" ><label for=\"a8f366d6-92fe-4948-9281-7fa2de918d65\" class=\"sk-toggleable__label sk-toggleable__label-arrow\">RandomForestRegressor</label><div class=\"sk-toggleable__content\"><pre>RandomForestRegressor()</pre></div></div></div></div></div></div></div>"
      ],
      "text/plain": [
       "Pipeline(steps=[('preprocessor',\n",
       "                 ColumnTransformer(transformers=[('categorical',\n",
       "                                                  Pipeline(steps=[('imputation_constant',\n",
       "                                                                   SimpleImputer(fill_value='missing',\n",
       "                                                                                 strategy='constant')),\n",
       "                                                                  ('onehot',\n",
       "                                                                   OneHotEncoder(handle_unknown='ignore'))]),\n",
       "                                                  ['sex', 'smoker', 'day',\n",
       "                                                   'time']),\n",
       "                                                 ('numerical',\n",
       "                                                  Pipeline(steps=[('imputaion_mean',\n",
       "                                                                   SimpleImputer()),\n",
       "                                                                  ('scaler',\n",
       "                                                                   StandardScaler())]),\n",
       "                                                  ['tip', 'size'])])),\n",
       "                ('regressor', RandomForestRegressor())])"
      ]
     },
     "execution_count": 31,
     "metadata": {},
     "output_type": "execute_result"
    }
   ],
   "source": [
    "pipe.fit(xtrain,ytrain)"
   ]
  },
  {
   "cell_type": "code",
   "execution_count": 32,
   "id": "72655a0d",
   "metadata": {
    "ExecuteTime": {
     "end_time": "2022-09-04T12:34:00.975193Z",
     "start_time": "2022-09-04T12:34:00.952193Z"
    }
   },
   "outputs": [],
   "source": [
    "ypred = pipe.predict(xtest)"
   ]
  },
  {
   "cell_type": "code",
   "execution_count": 33,
   "id": "340d5b2f",
   "metadata": {
    "ExecuteTime": {
     "end_time": "2022-09-04T12:34:01.298198Z",
     "start_time": "2022-09-04T12:34:01.281198Z"
    }
   },
   "outputs": [
    {
     "name": "stdout",
     "output_type": "stream",
     "text": [
      "[19.167845   22.75046667 20.89269167 31.6815     23.01231667 22.1249\n",
      " 19.6553     33.3518     18.4501     22.0701     14.8036     20.0076\n",
      "  9.4819     30.6262     22.08446    10.12576667 12.63676417 11.28384167\n",
      " 18.9118     21.63396667 14.1135     15.183325   14.40942    10.78195833\n",
      " 38.4898     12.63676417 20.66236667 21.62366667 15.60205    33.9035\n",
      " 32.2843     30.4709     13.72570238 13.867245   17.632375   23.45595\n",
      " 19.1839     17.37791    20.8435     32.4318     21.99555333 28.1686\n",
      " 10.34713333 32.6395     12.909465   14.12912    19.36717333 13.72570238\n",
      " 14.32646857]\n"
     ]
    }
   ],
   "source": [
    "print(ypred)"
   ]
  },
  {
   "cell_type": "code",
   "execution_count": null,
   "id": "08d71aa7",
   "metadata": {},
   "outputs": [],
   "source": []
  }
 ],
 "metadata": {
  "kernelspec": {
   "display_name": "Python 3 (ipykernel)",
   "language": "python",
   "name": "python3"
  },
  "language_info": {
   "codemirror_mode": {
    "name": "ipython",
    "version": 3
   },
   "file_extension": ".py",
   "mimetype": "text/x-python",
   "name": "python",
   "nbconvert_exporter": "python",
   "pygments_lexer": "ipython3",
   "version": "3.9.7"
  },
  "toc": {
   "base_numbering": 1,
   "nav_menu": {},
   "number_sections": true,
   "sideBar": true,
   "skip_h1_title": false,
   "title_cell": "Table of Contents",
   "title_sidebar": "Contents",
   "toc_cell": true,
   "toc_position": {},
   "toc_section_display": true,
   "toc_window_display": false
  }
 },
 "nbformat": 4,
 "nbformat_minor": 5
}
